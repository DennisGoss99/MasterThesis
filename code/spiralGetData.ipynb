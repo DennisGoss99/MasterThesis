{
 "cells": [
  {
   "cell_type": "code",
   "execution_count": 1,
   "metadata": {},
   "outputs": [],
   "source": [
    "# Create spiral matrix\n",
    "\n",
    "import torch\n",
    "import numpy as np\n",
    "import matplotlib.pyplot as plt\n",
    "from torchvision import transforms\n",
    "from PIL import Image\n",
    "from einops import rearrange, repeat\n",
    "from einops.layers.torch import Rearrange\n",
    "\n",
    "def create_spiral(n):\n",
    "    # Initialize a n x n matrix\n",
    "    matrix = [[0] * n for _ in range(n)]\n",
    "\n",
    "    x, y = 0, 0\n",
    "\n",
    "    # Direction vectors (right, down, left, up)\n",
    "    dx = [0, 1, 0, -1]\n",
    "    dy = [1, 0, -1, 0]\n",
    "    direction = 0\n",
    "\n",
    "    for i in range(n * n - 1, -1, -1):  # Start from n*n - 1 (35 for 6x6) and go down to 0\n",
    "        matrix[x][y] = i\n",
    "\n",
    "        nx = x + dx[direction]\n",
    "        ny = y + dy[direction]\n",
    "\n",
    "        # Change direction if next position is out of bounds or already filled\n",
    "        if nx < 0 or nx >= n or ny < 0 or ny >= n or matrix[nx][ny] != 0:\n",
    "            direction = (direction + 1) % 4  # Change direction\n",
    "            nx = x + dx[direction]\n",
    "            ny = y + dy[direction]\n",
    "\n",
    "        x, y = nx, ny\n",
    "    \n",
    "    return matrix\n"
   ]
  },
  {
   "cell_type": "code",
   "execution_count": 2,
   "metadata": {},
   "outputs": [
    {
     "data": {
      "text/plain": [
       "[[63, 62, 61, 60, 59, 58, 57, 56],\n",
       " [36, 35, 34, 33, 32, 31, 30, 55],\n",
       " [37, 16, 15, 14, 13, 12, 29, 54],\n",
       " [38, 17, 4, 3, 2, 11, 28, 53],\n",
       " [39, 18, 5, 0, 1, 10, 27, 52],\n",
       " [40, 19, 6, 7, 8, 9, 26, 51],\n",
       " [41, 20, 21, 22, 23, 24, 25, 50],\n",
       " [42, 43, 44, 45, 46, 47, 48, 49]]"
      ]
     },
     "execution_count": 2,
     "metadata": {},
     "output_type": "execute_result"
    }
   ],
   "source": [
    "spiral_matrix = create_spiral(8)\n",
    "spiral_matrix"
   ]
  },
  {
   "cell_type": "code",
   "execution_count": 23,
   "metadata": {},
   "outputs": [
    {
     "name": "stdout",
     "output_type": "stream",
     "text": [
      "tensor([[63, 62, 61, 60, 59, 58, 57, 56],\n",
      "        [36, 35, 34, 33, 32, 31, 30, 55],\n",
      "        [37, 16, 15, 14, 13, 12, 29, 54],\n",
      "        [38, 17,  4,  3,  2, 11, 28, 53],\n",
      "        [39, 18,  5,  0,  1, 10, 27, 52],\n",
      "        [40, 19,  6,  7,  8,  9, 26, 51],\n",
      "        [41, 20, 21, 22, 23, 24, 25, 50],\n",
      "        [42, 43, 44, 45, 46, 47, 48, 49]])\n",
      "tensor([[64, 68,  0, 60,  0,  6, 62, 48],\n",
      "        [49, 19,  1, 49, 85, 53,  7, 26],\n",
      "        [28,  6, 64, 61, 92, 73, 37, 43],\n",
      "        [94, 82, 53,  1, 68, 50, 62, 62],\n",
      "        [43, 47, 36,  7, 84,  9, 94, 77],\n",
      "        [73,  3, 65, 49,  2, 42, 54, 33],\n",
      "        [41, 74, 74, 50, 91,  4, 60, 66],\n",
      "        [53, 57, 49, 39, 12, 17, 95, 89]])\n"
     ]
    },
    {
     "data": {
      "text/plain": [
       "tensor([ 7, 84, 68,  1, 53, 36, 65, 49,  2, 42,  9, 50, 73, 92, 61, 64,  6, 82,\n",
       "        47,  3, 74, 74, 50, 91,  4, 60, 54, 94, 62, 37,  7, 53, 85, 49,  1, 19,\n",
       "        49, 28, 94, 43, 73, 41, 53, 57, 49, 39, 12, 17, 95, 89, 66, 33, 77, 62,\n",
       "        43, 26, 48, 62,  6,  0, 60,  0, 68, 64])"
      ]
     },
     "execution_count": 23,
     "metadata": {},
     "output_type": "execute_result"
    }
   ],
   "source": [
    "# Use the spiral matrix to reorder the data tensor\n",
    "\n",
    "data_tensor = torch.randint(0, 99, (8, 8))\n",
    "\n",
    "spiral_indices = torch.tensor([\n",
    "    [63, 62, 61, 60, 59, 58, 57, 56],\n",
    "    [36, 35, 34, 33, 32, 31, 30, 55],\n",
    "    [37, 16, 15, 14, 13, 12, 29, 54],\n",
    "    [38, 17,  4,  3,  2, 11, 28, 53],\n",
    "    [39, 18,  5,  0,  1, 10, 27, 52],\n",
    "    [40, 19,  6,  7,  8,  9, 26, 51],\n",
    "    [41, 20, 21, 22, 23, 24, 25, 50],\n",
    "    [42, 43, 44, 45, 46, 47, 48, 49]\n",
    "])\n",
    "\n",
    "\n",
    "flattened_data = data_tensor.flatten()\n",
    "\n",
    "correct_reordered_tensor = torch.zeros_like(flattened_data)\n",
    "\n",
    "correct_reordered_tensor[spiral_indices.flatten()] = flattened_data\n",
    "\n",
    "correct_reordered_tensor = correct_reordered_tensor.reshape(8, 8).flatten()\n",
    "print(spiral_indices)\n",
    "print(data_tensor)\n",
    "correct_reordered_tensor\n"
   ]
  },
  {
   "cell_type": "code",
   "execution_count": 25,
   "metadata": {},
   "outputs": [
    {
     "name": "stdout",
     "output_type": "stream",
     "text": [
      "tensor([[48, 47, 46, 45, 44, 43, 42],\n",
      "        [25, 24, 23, 22, 21, 20, 41],\n",
      "        [26,  9,  8,  7,  6, 19, 40],\n",
      "        [27, 10,  1,  0,  5, 18, 39],\n",
      "        [28, 11,  2,  3,  4, 17, 38],\n",
      "        [29, 12, 13, 14, 15, 16, 37],\n",
      "        [30, 31, 32, 33, 34, 35, 36]])\n",
      "tensor([[50, 58, 32, 62,  2,  5, 14],\n",
      "        [78, 93, 33, 34, 73, 41, 84],\n",
      "        [27, 37, 63, 92,  7,  2, 42],\n",
      "        [63, 97, 48, 33, 71, 78, 38],\n",
      "        [88, 71, 20, 66, 36, 56, 66],\n",
      "        [30, 69, 79, 79, 37, 40, 79],\n",
      "        [71, 85, 12, 74, 65, 55, 53]])\n"
     ]
    },
    {
     "data": {
      "text/plain": [
       "tensor([33, 48, 20, 66, 36, 71,  7, 92, 63, 37, 97, 71, 69, 79, 79, 37, 40, 56,\n",
       "        78,  2, 41, 73, 34, 33, 93, 78, 27, 63, 88, 30, 71, 85, 12, 74, 65, 55,\n",
       "        53, 79, 66, 38, 42, 84, 14,  5,  2, 62, 32, 58, 50])"
      ]
     },
     "execution_count": 25,
     "metadata": {},
     "output_type": "execute_result"
    }
   ],
   "source": [
    "# Use the spiral matrix to reorder the data tensor more efficiently\n",
    "import torch\n",
    "import numpy as np\n",
    "import matplotlib.pyplot as plt\n",
    "from torchvision import transforms\n",
    "from PIL import Image\n",
    "from einops import rearrange, repeat\n",
    "from einops.layers.torch import Rearrange\n",
    "\n",
    "size = 7\n",
    "\n",
    "spiral_indices = torch.tensor(create_spiral(7))\n",
    "spiral_indices\n",
    "\n",
    "data_tensor = torch.randint(0, 99, (size,size))\n",
    "\n",
    "correct_reordered_tensor = torch.zeros_like(data_tensor.flatten())\n",
    "\n",
    "correct_reordered_tensor[spiral_indices.flatten()] = data_tensor.flatten()\n",
    "\n",
    "print(spiral_indices)\n",
    "print(data_tensor)\n",
    "correct_reordered_tensor\n"
   ]
  },
  {
   "cell_type": "code",
   "execution_count": 4,
   "metadata": {},
   "outputs": [
    {
     "name": "stdout",
     "output_type": "stream",
     "text": [
      "torch.Size([3, 3, 3])\n",
      "tensor([[[0.3490, 0.4118, 0.3412],\n",
      "         [0.2980, 0.3020, 0.3333],\n",
      "         [0.2784, 0.2863, 0.3725]],\n",
      "\n",
      "        [[0.3451, 0.4078, 0.3373],\n",
      "         [0.2941, 0.2980, 0.3294],\n",
      "         [0.2667, 0.2745, 0.3608]],\n",
      "\n",
      "        [[0.2745, 0.3373, 0.2667],\n",
      "         [0.2235, 0.2275, 0.2588],\n",
      "         [0.2078, 0.2157, 0.2941]]])\n",
      "torch.Size([3, 9])\n",
      "tensor([[8, 7, 6],\n",
      "        [1, 0, 5],\n",
      "        [2, 3, 4]])\n",
      "torch.Size([3, 9])\n",
      "tensor([[0.3020, 0.2980, 0.2784, 0.2863, 0.3725, 0.3333, 0.3412, 0.4118, 0.3490],\n",
      "        [0.2980, 0.2941, 0.2667, 0.2745, 0.3608, 0.3294, 0.3373, 0.4078, 0.3451],\n",
      "        [0.2275, 0.2235, 0.2078, 0.2157, 0.2941, 0.2588, 0.2667, 0.3373, 0.2745]])\n",
      "x torch.Size([8, 3])\n",
      "tensor([[0.3020, 0.2980, 0.2275],\n",
      "        [0.2980, 0.2941, 0.2235],\n",
      "        [0.2784, 0.2667, 0.2078],\n",
      "        [0.2863, 0.2745, 0.2157],\n",
      "        [0.3725, 0.3608, 0.2941],\n",
      "        [0.3333, 0.3294, 0.2588],\n",
      "        [0.3412, 0.3373, 0.2667],\n",
      "        [0.4118, 0.4078, 0.3373]])\n",
      "y torch.Size([8, 3])\n",
      "tensor([[0.2980, 0.2941, 0.2235],\n",
      "        [0.2784, 0.2667, 0.2078],\n",
      "        [0.2863, 0.2745, 0.2157],\n",
      "        [0.3725, 0.3608, 0.2941],\n",
      "        [0.3333, 0.3294, 0.2588],\n",
      "        [0.3412, 0.3373, 0.2667],\n",
      "        [0.4118, 0.4078, 0.3373],\n",
      "        [0.3490, 0.3451, 0.2745]])\n"
     ]
    }
   ],
   "source": [
    "# Use the spiral matrix to getData from an image\n",
    "\n",
    "import torch\n",
    "import numpy as np\n",
    "import matplotlib.pyplot as plt\n",
    "from torchvision import transforms\n",
    "from PIL import Image\n",
    "from einops import rearrange, repeat\n",
    "from einops.layers.torch import Rearrange\n",
    "\n",
    "# device = 'cuda' if torch.cuda.is_available() else 'cpu'\n",
    "device = 'cpu'\n",
    "\n",
    "IMAGE_SIZE = 3\n",
    "BLOCK_SIZE = IMAGE_SIZE * IMAGE_SIZE - 1\n",
    "BATCH_SIZE = 0\n",
    "\n",
    "transform = transforms.Compose(\n",
    "    [\n",
    "        transforms.RandomCrop(IMAGE_SIZE),\n",
    "        transforms.ToTensor(),\n",
    "    ]\n",
    ")\n",
    "\n",
    "\n",
    "spiral_indices = torch.tensor(create_spiral(IMAGE_SIZE))\n",
    "\n",
    "@torch.no_grad()\n",
    "def get_data(data):\n",
    "    C ,H ,W = data.shape\n",
    "\n",
    "    print(data.shape)\n",
    "    print(data)\n",
    "\n",
    "    spiral_data = torch.zeros_like(data.view(C, -1))\n",
    "    print(spiral_data.shape)\n",
    "\n",
    "    spiral_data[:,spiral_indices.flatten()] = data.view(C, -1)\n",
    "\n",
    "    print(spiral_indices)\n",
    "\n",
    "    print(spiral_data.shape)\n",
    "    print(spiral_data)\n",
    "\n",
    "\n",
    "    x = spiral_data[:, :BLOCK_SIZE]\n",
    "    y = spiral_data[:, 1:BLOCK_SIZE+1]\n",
    "\n",
    "    x, y = x.to(device), y.to(device)\n",
    "    x = rearrange(x, 'c h -> h c')\n",
    "    y = rearrange(y, 'c h -> h c')\n",
    "    return x, y\n",
    "\n",
    "\n",
    "with Image.open(\"../resources/genImges/genApeTestPic.jpg\") as img:\n",
    "    img = transform(img)\n",
    "    dataRaw = img[:3].to(device)\n",
    "\n",
    "    x, y = get_data(dataRaw)\n",
    "\n",
    "    print(\"x\", x.shape)\n",
    "    print(x)\n",
    "    print(\"y\", y.shape)\n",
    "    print(y)\n",
    "\n"
   ]
  },
  {
   "cell_type": "code",
   "execution_count": 5,
   "metadata": {},
   "outputs": [
    {
     "name": "stdout",
     "output_type": "stream",
     "text": [
      "tensor([[10, 11, 12, 13, 14],\n",
      "        [15, 16, 17, 18, 19],\n",
      "        [20, 21, 22, 23, 24],\n",
      "        [25, 26, 27, 28, 29],\n",
      "        [30, 31, 32, 33, 34]])\n",
      "tensor([[10, 11, 12, 13, 14],\n",
      "        [15, 16, 17, 18, 19],\n",
      "        [20, 21, 22, 23, 24],\n",
      "        [25, 26, 27, 28, 29],\n",
      "        [30, 31, 32, 33, 34]])\n"
     ]
    }
   ],
   "source": [
    "# convert back to image 1 Color channel\n",
    "\n",
    "import torch\n",
    "\n",
    "IMAGE_SIZE = 5\n",
    "\n",
    "\n",
    "spiral_indices = torch.tensor(create_spiral(IMAGE_SIZE)).flatten()\n",
    "\n",
    "# Erstellen des Beispiel-Daten-Tensors und des spiralförmigen Index-Tensors (erneut)\n",
    "data_tensor = torch.arange(IMAGE_SIZE*IMAGE_SIZE).reshape(IMAGE_SIZE, IMAGE_SIZE) + 10\n",
    "\n",
    "# Erstellen des umgeordneten Tensors\n",
    "correct_reordered_tensor = torch.zeros_like(data_tensor.flatten())\n",
    "correct_reordered_tensor[spiral_indices] = data_tensor.flatten()\n",
    "\n",
    "\n",
    "positions_in_spiral = torch.argsort(spiral_indices)\n",
    "\n",
    "reconstructed_tensor_efficient = torch.zeros_like(data_tensor).flatten()\n",
    "reconstructed_tensor_efficient[positions_in_spiral] = correct_reordered_tensor\n",
    "\n",
    "# Rückumwandlung in 8x8 Format\n",
    "reconstructed_tensor_efficient = reconstructed_tensor_efficient.view(IMAGE_SIZE, IMAGE_SIZE)\n",
    "\n",
    "print(data_tensor)\n",
    "print(reconstructed_tensor_efficient)"
   ]
  },
  {
   "cell_type": "code",
   "execution_count": 6,
   "metadata": {},
   "outputs": [
    {
     "data": {
      "image/png": "[encoded data removed]",
      "text/plain": [
       "<Figure size 640x480 with 1 Axes>"
      ]
     },
     "metadata": {},
     "output_type": "display_data"
    },
    {
     "name": "stdout",
     "output_type": "stream",
     "text": [
      "tensor([[[0.4502, 0.2224, 0.0728],\n",
      "         [0.6200, 0.8935, 0.5371],\n",
      "         [0.1448, 0.7849, 0.2962],\n",
      "         [0.0057, 0.7991, 0.9980],\n",
      "         [0.2098, 0.4625, 0.2295],\n",
      "         [0.5562, 0.3935, 0.4788],\n",
      "         [0.6858, 0.4411, 0.2950],\n",
      "         [0.5518, 0.7142, 0.0103],\n",
      "         [0.7151, 0.7307, 0.9242],\n",
      "         [0.9439, 0.6220, 0.8364],\n",
      "         [0.6068, 0.2188, 0.3491],\n",
      "         [0.0126, 0.5361, 0.8499],\n",
      "         [0.4074, 0.3881, 0.7023],\n",
      "         [0.0557, 0.1105, 0.7304],\n",
      "         [0.8495, 0.8661, 0.0771],\n",
      "         [0.0110, 0.7158, 0.0706],\n",
      "         [0.1302, 0.7743, 0.9844],\n",
      "         [0.6070, 0.1009, 0.4340],\n",
      "         [0.9740, 0.5744, 0.2387],\n",
      "         [0.1587, 0.8646, 0.6597],\n",
      "         [0.3720, 0.8108, 0.0133],\n",
      "         [0.9807, 0.8316, 0.5927],\n",
      "         [0.7539, 0.3691, 0.9257],\n",
      "         [0.1221, 0.1987, 0.1644],\n",
      "         [0.8792, 0.4100, 0.7784]]])\n",
      "tensor([[[0.8792, 0.1221, 0.7539, 0.9807, 0.3720],\n",
      "         [0.9439, 0.7151, 0.5518, 0.6858, 0.1587],\n",
      "         [0.6068, 0.6200, 0.4502, 0.5562, 0.9740],\n",
      "         [0.0126, 0.1448, 0.0057, 0.2098, 0.6070],\n",
      "         [0.4074, 0.0557, 0.8495, 0.0110, 0.1302]],\n",
      "\n",
      "        [[0.4100, 0.1987, 0.3691, 0.8316, 0.8108],\n",
      "         [0.6220, 0.7307, 0.7142, 0.4411, 0.8646],\n",
      "         [0.2188, 0.8935, 0.2224, 0.3935, 0.5744],\n",
      "         [0.5361, 0.7849, 0.7991, 0.4625, 0.1009],\n",
      "         [0.3881, 0.1105, 0.8661, 0.7158, 0.7743]],\n",
      "\n",
      "        [[0.7784, 0.1644, 0.9257, 0.5927, 0.0133],\n",
      "         [0.8364, 0.9242, 0.0103, 0.2950, 0.6597],\n",
      "         [0.3491, 0.5371, 0.0728, 0.4788, 0.2387],\n",
      "         [0.8499, 0.2962, 0.9980, 0.2295, 0.4340],\n",
      "         [0.7023, 0.7304, 0.0771, 0.0706, 0.9844]]])\n"
     ]
    },
    {
     "data": {
      "image/png": "[encoded data removed]",
      "text/plain": [
       "<Figure size 640x480 with 1 Axes>"
      ]
     },
     "metadata": {},
     "output_type": "display_data"
    }
   ],
   "source": [
    "# convert back to image 3 colors\n",
    "from einops import rearrange, repeat\n",
    "from einops.layers.torch import Rearrange\n",
    "import torch\n",
    "\n",
    "IMAGE_SIZE = 5\n",
    "\n",
    "\n",
    "spiral_indices = torch.tensor(create_spiral(IMAGE_SIZE)).flatten()\n",
    "\n",
    "# Erstellen des Beispiel-Daten-Tensors und des spiralförmigen Index-Tensors (erneut)\n",
    "data_tensor = torch.rand((1,IMAGE_SIZE*IMAGE_SIZE,3))\n",
    "\n",
    "positions_in_spiral = torch.argsort(spiral_indices)\n",
    "\n",
    "reconstructed_tensor_efficient = torch.zeros((3,IMAGE_SIZE*IMAGE_SIZE))\n",
    "reconstructed_tensor_efficient[:,positions_in_spiral] = rearrange(data_tensor, '1 h c -> c h')\n",
    "\n",
    "# Rückumwandlung in 8x8 Format\n",
    "reconstructed_tensor_efficient = reconstructed_tensor_efficient.view(3,IMAGE_SIZE, IMAGE_SIZE)\n",
    "\n",
    "plt.imshow(data_tensor)\n",
    "plt.axis('off')\n",
    "plt.show()\n",
    "\n",
    "print(data_tensor)\n",
    "print(reconstructed_tensor_efficient)\n",
    "\n",
    "plt.imshow(rearrange(reconstructed_tensor_efficient, 'c h w -> h w c'))\n",
    "plt.axis('off')\n",
    "plt.show()"
   ]
  },
  {
   "cell_type": "code",
   "execution_count": 7,
   "metadata": {},
   "outputs": [
    {
     "data": {
      "image/png": "[encoded data removed]",
      "text/plain": [
       "<Figure size 1500x100 with 1 Axes>"
      ]
     },
     "metadata": {},
     "output_type": "display_data"
    },
    {
     "data": {
      "image/png": "[encoded data removed]",
      "text/plain": [
       "<Figure size 1000x1000 with 1 Axes>"
      ]
     },
     "metadata": {},
     "output_type": "display_data"
    }
   ],
   "source": [
    "# Create expample image to explain the spiral matrix concept\n",
    "\n",
    "def generate_color_gradient(length):\n",
    "    # Generate a gradient for each color channel\n",
    "    r = np.linspace(1, 0, length)\n",
    "    g = np.linspace(0, 0, length)  # Green channel remains constant at 0\n",
    "    b = np.linspace(0, 1, length)  # Blue channel increases from 0 to 1\n",
    "\n",
    "    # Stack the color channels to form the gradient\n",
    "    gradient = np.stack((r, g, b), axis=1)\n",
    "\n",
    "    return gradient\n",
    "\n",
    "def create_colored_grid(size):\n",
    "    # Set the size of the plot\n",
    "    plt.figure(figsize=(10, 10))\n",
    "    \n",
    "    # Generate a size x size grid of numbers\n",
    "    numbers = np.array(create_spiral(size)) +1\n",
    "    \n",
    "    colors_gradient = generate_color_gradient(size*size)\n",
    "\n",
    "    normalized_numbers = (numbers - 1) / (size*size - 1) * (size*size - 1)\n",
    "\n",
    "    # Plot each cell with its corresponding color and number, with white numbers\n",
    "    for i in range(size):\n",
    "        for j in range(size):\n",
    "            idx = int(normalized_numbers[i, j])  # Index for the gradient color\n",
    "            plt.gca().add_patch(plt.Rectangle((j, size-1-i), 1, 1, color=colors_gradient[idx]))\n",
    "            plt.text(j+0.5, size-0.5-i, str(numbers[i, j] -1 ), va='center', ha='center', color='white')\n",
    "    \n",
    "    \n",
    "    plt.xlim(0, size)\n",
    "    plt.ylim(0, size)\n",
    "    plt.xticks(np.arange(0.5, size, 1), labels=[])\n",
    "    plt.yticks(np.arange(0.5, size, 1), labels=[])\n",
    "    \n",
    "    # Display the grid\n",
    "    plt.show()\n",
    "\n",
    "def create_1d_gradient_plot(length):\n",
    "    plt.figure(figsize=(15, 1))  # Adjust figure size for a horizontal 1D plot\n",
    "    \n",
    "    # Generate numbers from 1 to length\n",
    "    numbers = np.arange(1, length + 1)\n",
    "    \n",
    "    # Generate color gradient\n",
    "    colors_gradient = generate_color_gradient(length)\n",
    "    \n",
    "    numbers = numbers -1\n",
    "\n",
    "    # Plot each number with its corresponding gradient color and add dotted white lines between them\n",
    "    for i, num in enumerate(numbers):\n",
    "        plt.gca().add_patch(plt.Rectangle((i, 0), 1, 1, color=colors_gradient[i]))\n",
    "        plt.text(i+0.5, 0.5, str(num), va='center', ha='center', color='white')\n",
    "        # Draw dotted white lines between patches\n",
    "        if i < length - 1:  # Avoid drawing a line after the last patch\n",
    "            plt.plot([i+1, i+1], [0, 1], color='white', linestyle=':', linewidth=1)\n",
    "    \n",
    "    plt.xlim(0, length)\n",
    "    plt.ylim(0, 1)\n",
    "    plt.xticks(np.arange(0.5, length, 1), numbers)\n",
    "    plt.yticks([])\n",
    "    \n",
    "    plt.show()\n",
    "\n",
    "size = 7\n",
    "\n",
    "create_1d_gradient_plot(size*size)\n",
    "# Example usage: Create a 5x5 grid\n",
    "create_colored_grid(size)\n"
   ]
  }
 ],
 "metadata": {
  "kernelspec": {
   "display_name": "Python 3",
   "language": "python",
   "name": "python3"
  },
  "language_info": {
   "codemirror_mode": {
    "name": "ipython",
    "version": 3
   },
   "file_extension": ".py",
   "mimetype": "text/x-python",
   "name": "python",
   "nbconvert_exporter": "python",
   "pygments_lexer": "ipython3",
   "version": "3.11.8"
  }
 },
 "nbformat": 4,
 "nbformat_minor": 2
}
