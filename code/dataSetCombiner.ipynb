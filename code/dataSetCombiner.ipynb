{
 "cells": [
  {
   "cell_type": "code",
   "execution_count": 1,
   "metadata": {},
   "outputs": [],
   "source": [
    "import torch\n",
    "from torchvision import datasets, transforms\n",
    "import numpy as np\n",
    "from torch.utils.data import Subset\n",
    "\n",
    "@torch.no_grad()\n",
    "def getDataSet(path, dataset_name, size_x, size_y, equalize = False, repeatData=1):\n",
    "\n",
    "    equalizingPercentage = 0.10\n",
    "\n",
    "    DataDic = {\n",
    "        \"AllData_1080x\": [\"Data_Polyhaven1k\", \"Data_Poliigon\", \"Data_Minecraft/1024x1024\", \"Data_freepbr1k\", \"Data_CSGO_Floor\", \"Data_Portal\", \"Data_HalfLife2\", \"Data_UnityAssets/x1024\", \"Data_BioShockInf\"],\n",
    "        \"AllData_512x\": [\"Data_Minecraft/512x512\", \"Data_CSGO_Floor_qHD\", \"Data_UnityAssets/x512\"],\n",
    "        \"Minecraft_1024x\": [\"Data_Minecraft/1024x1024\"],\n",
    "        \"CsGoFloor_1080x\": [\"Data_CSGO_Floor\"],\n",
    "        \"CsGoFloor_512x\": [\"Data_CSGO_Floor_qHD\"],\n",
    "        \"FreePBR\": [\"Data_freepbr1k\"],\n",
    "        \"Polyhaven\": [\"Data_Polyhaven1k\"],\n",
    "        \"Poliigon\": [\"Data_Poliigon\"],\n",
    "        \"Portal\" : [\"Data_Portal\"],\n",
    "        \"HalfLife2\" : [\"Data_HalfLife2\"],\n",
    "        \"UnityAssets_1024x\" : [\"Data_UnityAssets/x1024\"],\n",
    "        \"UnityAssets_512x\" : [\"Data_UnityAssets/x512\"],\n",
    "        \"BioShockInf\" : [\"Data_BioShockInf\"],\n",
    "    }\n",
    "\n",
    "    specific_datasets = [\n",
    "        \"Data_CSGO_Floor\",\n",
    "        \"Data_CSGO_Floor_qHD\",\n",
    "        \"Data_Portal\",\n",
    "        \"Data_HalfLife2\"\n",
    "    ]\n",
    "\n",
    "    if dataset_name not in DataDic:\n",
    "        raise ValueError(f\"Dataset'{dataset_name}' is not in DataDic\")\n",
    "\n",
    "    selected_data_paths = [f\"{path}/{folder}\" for folder in DataDic[dataset_name]]\n",
    "\n",
    "    transform = transforms.Compose(\n",
    "        [\n",
    "            transforms.RandomCrop((size_x, size_y)),\n",
    "            transforms.RandomHorizontalFlip(),\n",
    "            transforms.RandomVerticalFlip(),\n",
    "            transforms.ToTensor(),\n",
    "        ]\n",
    "    )\n",
    "\n",
    "    datasets_list = []\n",
    "\n",
    "    for folder_path in selected_data_paths: \n",
    "        dataset = datasets.ImageFolder(root=folder_path, transform=transform)\n",
    "        if equalize and any(specific_dataset in folder_path for specific_dataset in specific_datasets):\n",
    "            subset_size = int(len(dataset) * equalizingPercentage)\n",
    "            indices = np.random.choice(range(len(dataset)), subset_size, replace=False)\n",
    "            dataset = Subset(dataset, indices)\n",
    "\n",
    "        datasets_list.append(dataset)\n",
    "\n",
    "    combined_dataset = torch.utils.data.ConcatDataset(datasets_list * repeatData)\n",
    "\n",
    "    return combined_dataset"
   ]
  },
  {
   "cell_type": "code",
   "execution_count": 2,
   "metadata": {},
   "outputs": [
    {
     "data": {
      "text/plain": [
       "62785"
      ]
     },
     "execution_count": 2,
     "metadata": {},
     "output_type": "execute_result"
    }
   ],
   "source": [
    "\n",
    "path = r\"C:\\Users\\Dennis\\Desktop\\Pro\\AITest\\imgGen\\Data\"\n",
    "\n",
    "dataset = getDataSet(path, \"AllData_1080x\", 512, 512, False, 1)\n",
    "len(dataset)"
   ]
  }
 ],
 "metadata": {
  "kernelspec": {
   "display_name": "Python 3",
   "language": "python",
   "name": "python3"
  },
  "language_info": {
   "codemirror_mode": {
    "name": "ipython",
    "version": 3
   },
   "file_extension": ".py",
   "mimetype": "text/x-python",
   "name": "python",
   "nbconvert_exporter": "python",
   "pygments_lexer": "ipython3",
   "version": "3.11.8"
  }
 },
 "nbformat": 4,
 "nbformat_minor": 2
}
