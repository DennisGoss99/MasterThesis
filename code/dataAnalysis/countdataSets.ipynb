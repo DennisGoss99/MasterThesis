{
 "cells": [
  {
   "cell_type": "code",
   "execution_count": 16,
   "metadata": {},
   "outputs": [
    {
     "name": "stdout",
     "output_type": "stream",
     "text": [
      "\t\t\t\t\t\tAbzu & 56 & 14 \\\\\n",
      "\t\t\t\t\t\tBatmanArkhamKnight & 3236 & 809 \\\\\n",
      "\t\t\t\t\t\tBioShockInf & 2152 & 539 \\\\\n",
      "\t\t\t\t\t\tBorderlands2 & 184 & 46 \\\\\n",
      "\t\t\t\t\t\tBorderlands & 1808 & 452 \\\\\n",
      "\t\t\t\t\t\tBrothersATOTS & 100 & 25 \\\\\n",
      "\t\t\t\t\t\tCitiesSkylines & 309 & 71 \\\\\n",
      "\t\t\t\t\t\tCsGo & 4154 & 809 \\\\\n",
      "\t\t\t\t\t\tDauntless & 16 & 4 \\\\\n",
      "\t\t\t\t\t\tDishonored & 1084 & 271 \\\\\n",
      "\t\t\t\t\t\tFreepbr1k & 1052 & 263 \\\\\n",
      "\t\t\t\t\t\tGarrysMod & 102 & 20 \\\\\n",
      "\t\t\t\t\t\tHalfLife2 & 1334 & 36 \\\\\n",
      "\t\t\t\t\t\tLeft4Dead2 & 409 & 24 \\\\\n",
      "\t\t\t\t\t\tManeater & 76 & 19 \\\\\n",
      "\t\t\t\t\t\tMinecraft & 5789 & 628 \\\\\n",
      "\t\t\t\t\t\tMutantYearZeroRTE & 632 & 158 \\\\\n",
      "\t\t\t\t\t\tOperatorNdmQG & 1 & --- \\\\\n",
      "\t\t\t\t\t\tPhasmophobia & 1984 & 491 \\\\\n",
      "\t\t\t\t\t\tPoliigon & 196 & 49 \\\\\n",
      "\t\t\t\t\t\tPolyhaven1k & 1756 & 439 \\\\\n",
      "\t\t\t\t\t\tPortal2 & 643 & 110 \\\\\n",
      "\t\t\t\t\t\tPortal & 69 & --- \\\\\n",
      "\t\t\t\t\t\tRelicta & 1656 & 414 \\\\\n",
      "\t\t\t\t\t\tRemnantFromTheAshes & 4188 & 1047 \\\\\n",
      "\t\t\t\t\t\tRuiner & 24 & 6 \\\\\n",
      "\t\t\t\t\t\tStarWarsJFO & 2980 & 745 \\\\\n",
      "\t\t\t\t\t\tTeamFortress2 & 996 & 14 \\\\\n",
      "\t\t\t\t\t\tTrainSimWorld2 & 492 & 123 \\\\\n",
      "\t\t\t\t\t\tTrainSimWorld & 2096 & 524 \\\\\n",
      "\t\t\t\t\t\tUnityAssets & 17816 & 4434 \\\\\n",
      "\t\t\t\t\t\tVampyr & 8 & 2 \\\\\n",
      "\t\t\t\t\t\tXCOM2 & 4 & 1 \\\\\n",
      "\t\t\t\t\t\tXCOM & 52 & 13 \\\\\n",
      "\t\t\t\t\t\tAllData & 57454 & 12600 \\\\\n"
     ]
    }
   ],
   "source": [
    "import torch\n",
    "from torchvision import datasets, transforms\n",
    "import os\n",
    "import sys\n",
    "\n",
    "sys.path.append('../')\n",
    "from dataSetCombiner import getDataSet\n",
    "\n",
    "path = r\"C:\\Users\\Dennis\\Desktop\\Pro\\AITest\\imgGen\\Data\"\n",
    "\n",
    "datasetStringsx1024 = ['Abzu', 'BatmanArkhamKnight', 'BioShockInf','Borderlands2', 'Borderlands', 'BrothersATOTS', 'CitiesSkylines', 'CsGo', 'Dauntless', 'Dishonored', 'Freepbr1k', 'GarrysMod', 'HalfLife2', 'Left4Dead2', 'Maneater', 'Minecraft', 'MutantYearZeroRTE', 'OperatorNdmQG', 'Phasmophobia', 'Poliigon', 'Polyhaven1k', 'Portal2', 'Portal', 'Relicta', 'RemnantFromTheAshes', 'Ruiner', 'StarWarsJFO', 'TeamFortress2', 'TrainSimWorld2', 'TrainSimWorld', 'UnityAssets', 'Vampyr', 'XCOM2', 'XCOM', 'AllData']\n",
    "\n",
    "for i, datasetString in enumerate(datasetStringsx1024):\n",
    "    datasetx512 = getDataSet(path, datasetString + '_x512', 512, 512, 1)\n",
    "    \n",
    "    is1024 = True\n",
    "    try:\n",
    "        datasetx1024 = getDataSet(path, datasetString + '_x1024', 1024, 1024, 1)\n",
    "    except:\n",
    "        is1024 = False\n",
    "\n",
    "    if is1024:\n",
    "        print(f'\\t\\t\\t\\t\\t\\t{datasetString} & {len(datasetx512)} & {len(datasetx1024)} \\\\\\\\')\n",
    "    else:\n",
    "        print(f'\\t\\t\\t\\t\\t\\t{datasetString} & {len(datasetx512)} & --- \\\\\\\\')\n",
    "\n"
   ]
  }
 ],
 "metadata": {
  "kernelspec": {
   "display_name": "Python 3",
   "language": "python",
   "name": "python3"
  },
  "language_info": {
   "codemirror_mode": {
    "name": "ipython",
    "version": 3
   },
   "file_extension": ".py",
   "mimetype": "text/x-python",
   "name": "python",
   "nbconvert_exporter": "python",
   "pygments_lexer": "ipython3",
   "version": "3.11.8"
  }
 },
 "nbformat": 4,
 "nbformat_minor": 2
}
