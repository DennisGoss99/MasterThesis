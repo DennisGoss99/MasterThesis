{
 "cells": [
  {
   "cell_type": "code",
   "execution_count": 3,
   "metadata": {},
   "outputs": [
    {
     "data": {
      "text/plain": [
       "1315"
      ]
     },
     "execution_count": 3,
     "metadata": {},
     "output_type": "execute_result"
    }
   ],
   "source": [
    "import torch\n",
    "from torchvision import datasets, transforms\n",
    "\n",
    "@torch.no_grad()\n",
    "def getDataSet(path, dataset_name, size_x, size_y, repeatData=1):\n",
    "    DataDic = {\n",
    "        \"AllData_1080x\": [\"Data_Polyhaven1k\", \"Data_Poliigon\", \"Data_Minecraft/1024x1024\", \"Data_freepbr1k\", \"Data_CSGO_Floor\"],\n",
    "        \"AllData_512x\": [\"Data_Minecraft/512x512\", \"Data_CSGO_Floor_qHD\"],\n",
    "        \"CsGoFloor_1080x\": [\"Data_CSGO_Floor\"],\n",
    "        \"CsGoFloor_512x\": [\"Data_CSGO_Floor_qHD\"],\n",
    "        \"FreePBR\": [\"Data_freepbr1k\"],\n",
    "        \"Polyhaven\": [\"Data_Polyhaven1k\"],\n",
    "        \"Poliigon\": [\"Data_Poliigon\"],\n",
    "    }\n",
    "\n",
    "    # Prüfen, ob der angegebene Datensatzname im Wörterbuch vorhanden ist\n",
    "    if dataset_name not in DataDic:\n",
    "        raise ValueError(f\"Datensatzname '{dataset_name}' nicht im DataDic gefunden.\")\n",
    "\n",
    "    selected_data_paths = [f\"{path}\\\\{folder}\" for folder in DataDic[dataset_name]]\n",
    "\n",
    "    transform = transforms.Compose(\n",
    "        [\n",
    "            transforms.RandomCrop((size_x, size_y)),\n",
    "            transforms.RandomHorizontalFlip(),\n",
    "            transforms.RandomVerticalFlip(),\n",
    "            transforms.ToTensor(),\n",
    "        ]\n",
    "    )\n",
    "\n",
    "    datasets_list = [datasets.ImageFolder(root=folder_path, transform=transform) for folder_path in selected_data_paths]\n",
    "    combined_dataset = torch.utils.data.ConcatDataset(datasets_list * repeatData)\n",
    "\n",
    "    return combined_dataset\n",
    "\n",
    "\n",
    "path = r\"C:\\Users\\Dennis\\Desktop\\Pro\\AITest\\imgGen\\Data\"\n",
    "\n",
    "dataset = getDataSet(path, \"FreePBR\", 512, 512, 5)\n",
    "len(dataset)"
   ]
  },
  {
   "cell_type": "code",
   "execution_count": 11,
   "metadata": {},
   "outputs": [
    {
     "ename": "ModuleNotFoundError",
     "evalue": "No module named 'skimage'",
     "output_type": "error",
     "traceback": [
      "\u001b[1;31m---------------------------------------------------------------------------\u001b[0m",
      "\u001b[1;31mModuleNotFoundError\u001b[0m                       Traceback (most recent call last)",
      "Cell \u001b[1;32mIn[11], line 3\u001b[0m\n\u001b[0;32m      1\u001b[0m \u001b[38;5;28;01mimport\u001b[39;00m \u001b[38;5;21;01mnumpy\u001b[39;00m \u001b[38;5;28;01mas\u001b[39;00m \u001b[38;5;21;01mnp\u001b[39;00m\n\u001b[0;32m      2\u001b[0m \u001b[38;5;28;01mimport\u001b[39;00m \u001b[38;5;21;01mmatplotlib\u001b[39;00m\u001b[38;5;21;01m.\u001b[39;00m\u001b[38;5;21;01mpyplot\u001b[39;00m \u001b[38;5;28;01mas\u001b[39;00m \u001b[38;5;21;01mplt\u001b[39;00m\n\u001b[1;32m----> 3\u001b[0m \u001b[38;5;28;01mfrom\u001b[39;00m \u001b[38;5;21;01mskimage\u001b[39;00m \u001b[38;5;28;01mimport\u001b[39;00m color\n\u001b[0;32m      5\u001b[0m fig \u001b[38;5;241m=\u001b[39m plt\u001b[38;5;241m.\u001b[39mfigure()\n\u001b[0;32m      6\u001b[0m ax \u001b[38;5;241m=\u001b[39m fig\u001b[38;5;241m.\u001b[39madd_subplot(\u001b[38;5;241m111\u001b[39m, projection\u001b[38;5;241m=\u001b[39m\u001b[38;5;124m'\u001b[39m\u001b[38;5;124m3d\u001b[39m\u001b[38;5;124m'\u001b[39m)\n",
      "\u001b[1;31mModuleNotFoundError\u001b[0m: No module named 'skimage'"
     ]
    }
   ],
   "source": [
    "import numpy as np\n",
    "import matplotlib.pyplot as plt\n",
    "from skimage import color\n",
    "\n",
    "fig = plt.figure()\n",
    "ax = fig.add_subplot(111, projection='3d')\n",
    "\n",
    "for idx, data in enumerate(dataset):\n",
    "    data = data[0]\n",
    "    \n",
    "    print(data[0,0,0])\n",
    "\n",
    "\n",
    "    # Beispiel RGB-Werte (im Bereich von 0 bis 1)\n",
    "    rgb_values = np.array([\n",
    "        [0.5, 0.2, 0.1], # Beispiel RGB-Wert\n",
    "        # Fügen Sie hier weitere RGB-Werte hinzu\n",
    "    ])\n",
    "\n",
    "    # Konvertieren von RGB zu CIELAB\n",
    "    lab_values = color.rgb2lab(rgb_values.reshape((1, -1, 3)))\n",
    "\n",
    "    # Plotten der CIELAB-Werte\n",
    "\n",
    "    ax.scatter(lab_values[:, :, 1], lab_values[:, :, 2], lab_values[:, :, 0])\n",
    "\n",
    "\n",
    "\n",
    "    if idx == 10:\n",
    "        break\n",
    "\n",
    "ax.set_xlabel('a-Achse')\n",
    "ax.set_ylabel('b-Achse')\n",
    "ax.set_zlabel('L-Achse')\n",
    "plt.show()"
   ]
  }
 ],
 "metadata": {
  "kernelspec": {
   "display_name": "Python 3",
   "language": "python",
   "name": "python3"
  },
  "language_info": {
   "codemirror_mode": {
    "name": "ipython",
    "version": 3
   },
   "file_extension": ".py",
   "mimetype": "text/x-python",
   "name": "python",
   "nbconvert_exporter": "python",
   "pygments_lexer": "ipython3",
   "version": "3.11.6"
  }
 },
 "nbformat": 4,
 "nbformat_minor": 2
}
