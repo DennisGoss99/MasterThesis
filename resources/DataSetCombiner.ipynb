{
 "cells": [
  {
   "cell_type": "code",
   "execution_count": 17,
   "metadata": {},
   "outputs": [
    {
     "data": {
      "text/plain": [
       "1315"
      ]
     },
     "execution_count": 17,
     "metadata": {},
     "output_type": "execute_result"
    },
    {
     "ename": "",
     "evalue": "",
     "output_type": "error",
     "traceback": [
      "\u001b[1;31mThe Kernel crashed while executing code in the the current cell or a previous cell. Please review the code in the cell(s) to identify a possible cause of the failure. Click <a href='https://aka.ms/vscodeJupyterKernelCrash'>here</a> for more info. View Jupyter <a href='command:jupyter.viewOutput'>log</a> for further details."
     ]
    }
   ],
   "source": [
    "import torch\n",
    "from torchvision import datasets, transforms\n",
    "\n",
    "@torch.no_grad()\n",
    "def getDataSet(path, dataset_name, size_x, size_y, repeatData=1):\n",
    "    DataDic = {\n",
    "        \"AllData_1080x\": [\"Data_Polyhaven1k\", \"Data_Poliigon\", \"Data_Minecraft/1024x1024\", \"Data_freepbr1k\", \"Data_CSGO_Floor\"],\n",
    "        \"AllData_512x\": [\"Data_Minecraft/512x512\", \"Data_CSGO_Floor_qHD\"],\n",
    "        \"CsGoFloor_1080x\": [\"Data_CSGO_Floor\"],\n",
    "        \"CsGoFloor_512x\": [\"Data_CSGO_Floor_qHD\"],\n",
    "        \"FreePBR\": [\"Data_freepbr1k\"],\n",
    "        \"Polyhaven\": [\"Data_Polyhaven1k\"],\n",
    "        \"Poliigon\": [\"Data_Poliigon\"],\n",
    "    }\n",
    "\n",
    "    # Prüfen, ob der angegebene Datensatzname im Wörterbuch vorhanden ist\n",
    "    if dataset_name not in DataDic:\n",
    "        raise ValueError(f\"Datensatzname '{dataset_name}' nicht im DataDic gefunden.\")\n",
    "\n",
    "    selected_data_paths = [f\"{path}\\\\{folder}\" for folder in DataDic[dataset_name]]\n",
    "\n",
    "    transform = transforms.Compose(\n",
    "        [\n",
    "            transforms.RandomCrop((size_x, size_y)),\n",
    "            transforms.RandomHorizontalFlip(),\n",
    "            transforms.RandomVerticalFlip(),\n",
    "            transforms.ToTensor(),\n",
    "        ]\n",
    "    )\n",
    "\n",
    "    datasets_list = [datasets.ImageFolder(root=folder_path, transform=transform) for folder_path in selected_data_paths]\n",
    "    combined_dataset = torch.utils.data.ConcatDataset(datasets_list * repeatData)\n",
    "\n",
    "    return combined_dataset\n",
    "\n",
    "\n",
    "path = r\"C:\\Users\\Dennis\\Desktop\\Pro\\AITest\\imgGen\\Data\"\n",
    "\n",
    "dataset = getDataSet(path, \"FreePBR\", 512, 512, 5)\n",
    "len(dataset)"
   ]
  }
 ],
 "metadata": {
  "kernelspec": {
   "display_name": "Python 3",
   "language": "python",
   "name": "python3"
  },
  "language_info": {
   "codemirror_mode": {
    "name": "ipython",
    "version": 3
   },
   "file_extension": ".py",
   "mimetype": "text/x-python",
   "name": "python",
   "nbconvert_exporter": "python",
   "pygments_lexer": "ipython3",
   "version": "3.11.6"
  }
 },
 "nbformat": 4,
 "nbformat_minor": 2
}
